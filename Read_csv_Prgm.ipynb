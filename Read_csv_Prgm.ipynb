{
 "cells": [
  {
   "cell_type": "code",
   "execution_count": 4,
   "id": "22617dbb-3e96-43fa-9cda-d35ad00b912c",
   "metadata": {},
   "outputs": [
    {
     "name": "stdin",
     "output_type": "stream",
     "text": [
      "Enter the pathway for the csv file: C:\\Users\\satis\\Downloads\\sun_restaurant_receipt.csv\n"
     ]
    },
    {
     "name": "stdout",
     "output_type": "stream",
     "text": [
      "\n",
      "The headers of the file are as displayed below:\n",
      "  Category       Item  Price (£)\n",
      "0  Starter  Starter 1      17.61\n",
      "1  Starter  Starter 2       4.10\n",
      "2  Starter  Starter 3       8.59\n",
      "3  Starter  Starter 4      13.34\n",
      "4  Starter  Starter 5      17.43\n",
      "\n",
      " The toal no of rows are 64\n",
      "/n The toal no of columns are 3\n",
      "\n",
      " The column names are: ['Category', 'Item', 'Price (£)']\n",
      "\n",
      " The Summary of each columns are given as follows: \n",
      " Column name: Price (£)\n",
      "\n",
      " The mean is: 10.8228125\n",
      "\n",
      " The Median is: 11.01\n",
      "\n",
      " The Minimum is: 3.49\n",
      "\n",
      " The Maximum is: 19.48\n"
     ]
    }
   ],
   "source": [
    "import pandas as pd\n",
    "filename = input(f\"Enter the pathway for the csv file:\")\n",
    "rf = pd.read_csv(filename)\n",
    "#This will read the file. Now we need to display the headers of the files\n",
    "print(f\"\\nThe headers of the file are as displayed below:\")\n",
    "print(rf.head())\n",
    "# Now we need to display the total no of rows and columsn in the file\n",
    "print(f\"\\n The toal no of rows are {rf.shape[0]}\")\n",
    "print(f\"/n The toal no of columns are {rf.shape[1]}\")\n",
    "print(f\"\\n The column names are: {list(rf.columns)}\")\n",
    "# Now we need to go through each column and find the mean, median, max and min for each column\n",
    "numeric_col = rf.select_dtypes(include='number').columns\n",
    "print(\"\\n The Summary of each column are given as follows: \")\n",
    "for col in numeric_col:\n",
    "  print(f\" Column name: {col}\")\n",
    "  print(f\"\\n The mean is: {rf[col].mean()}\")\n",
    "  print(f\"\\n The Median is: {rf[col].median()}\")\n",
    "  print(f\"\\n The Minimum is: {rf[col].min()}\")\n",
    "  print(f\"\\n The Maximum is: {rf[col].max()}\")\n",
    "    "
   ]
  },
  {
   "cell_type": "code",
   "execution_count": null,
   "id": "aec49cbe-c154-4dab-b6e1-a168a9357b0e",
   "metadata": {},
   "outputs": [],
   "source": []
  }
 ],
 "metadata": {
  "kernelspec": {
   "display_name": "Python 3 (ipykernel)",
   "language": "python",
   "name": "python3"
  },
  "language_info": {
   "codemirror_mode": {
    "name": "ipython",
    "version": 3
   },
   "file_extension": ".py",
   "mimetype": "text/x-python",
   "name": "python",
   "nbconvert_exporter": "python",
   "pygments_lexer": "ipython3",
   "version": "3.12.7"
  }
 },
 "nbformat": 4,
 "nbformat_minor": 5
}
